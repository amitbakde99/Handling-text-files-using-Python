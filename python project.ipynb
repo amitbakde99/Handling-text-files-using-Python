{
 "cells": [
  {
   "cell_type": "code",
   "execution_count": 1,
   "id": "11127190",
   "metadata": {},
   "outputs": [],
   "source": [
    "#     conv.txt in the dataset folder.\n",
    "# 1.  Find out the number of unique characters in the sample conversation?\n",
    "# 2.  Create a new text file for each of the characters with their name and store the unique\n",
    "#     words said by them in their respective file. Store one word in one line."
   ]
  },
  {
   "cell_type": "code",
   "execution_count": 2,
   "id": "d83aa888",
   "metadata": {},
   "outputs": [
    {
     "name": "stdout",
     "output_type": "stream",
     "text": [
      "No Of Unique Characters Involved In The Conversation are :-  17 \n",
      "Those are :- \n"
     ]
    },
    {
     "data": {
      "text/plain": [
       "{'ARYA',\n",
       " 'BRAN',\n",
       " 'CASSEL',\n",
       " 'CATELYN',\n",
       " 'CERSEI',\n",
       " 'GARED',\n",
       " 'JAIME',\n",
       " 'JON',\n",
       " 'NED',\n",
       " 'ROBB',\n",
       " 'ROBERT',\n",
       " 'ROYCE',\n",
       " 'SANSA',\n",
       " 'SEPTA MORDANE',\n",
       " 'THEON',\n",
       " 'WAYMAR ROYCE',\n",
       " 'WILL'}"
      ]
     },
     "execution_count": 2,
     "metadata": {},
     "output_type": "execute_result"
    }
   ],
   "source": [
    "#Find out the number of unique characters in the sample conversation?\n",
    "a = []\n",
    "fr = open('dataset/conv.txt','r').readlines()\n",
    "# print each line text\n",
    "for line in fr :\n",
    "    unique_characters = line.split(' ')\n",
    "    if unique_characters[0] != '\\n':\n",
    "        if unique_characters[0].endswith(':') == 1:\n",
    "            a.append(unique_characters[0].replace(\":\",\"\"))\n",
    "        else:\n",
    "            c = (unique_characters[0] + \" \" +unique_characters[1])\n",
    "            a.append(c.replace(\":\",\"\"))\n",
    "b=set(a)\n",
    "\n",
    "print(\"No Of Unique Characters Involved In The Conversation are :- \",len(b),\"\\nThose are :- \")\n",
    "b"
   ]
  },
  {
   "cell_type": "code",
   "execution_count": 3,
   "id": "89afbadb",
   "metadata": {},
   "outputs": [
    {
     "name": "stdout",
     "output_type": "stream",
     "text": [
      "\n",
      "\n",
      " THEON ------------------------------------------------------------\n",
      "{'prick.', 'Give', 'Itâ€™s', 'your', 'father,', 'royal', 'his', 'all', 'not', 'girls', 'Mountain', 'lion?', 'with', 'I', 'here.', 'of', 'right', 'to', 'Right.', 'it', 'stab', 'he', 'orders', 'southern', 'take', 'you.', 'Think', 'those', 'THEON:', 'freak.', 'a', 'from', 'gets'}\n",
      "\n",
      "\n",
      " GARED ------------------------------------------------------------\n",
      "{'should', 'back', 'were', 'wonâ€™t', 'they', 'head', 'Our', 'tracked', 'See', 'We', 'track', 'no', 'wall.', 'trouble', 'to', 'where', 'us', 'the', 'went.', 'They', 'them.', 'more.', 'wildlings.', 'orders', 'GARED:'}\n",
      "\n",
      "\n",
      " WAYMAR ROYCE ------------------------------------------------------------\n",
      "{'WAYMAR', 'How', 'did', 'you', 'close', 'get?', 'ROYCE:'}\n",
      "\n",
      "\n",
      " JON ------------------------------------------------------------\n",
      "{'there', 'for', 'Fatherâ€™s', 'were', 'you', 'your', 'Father', 'Go', 'did', 'One', 'You', 'Get', 'think', 'not', 'know', 'watching.', 'five.', 'Bran.', 'it?', 'of', 'too', 'have', 'each', 'to', 'Stark?', 'if', 'meant', 'JON:', 'five', 'And', 'mother.', 'What', 'The', 'well.', 'do.', 'There', 'the', 'are', 'sigil', 'They', 'them.', 'Donâ€™t', 'Now', 'children.', 'Lord', 'Iâ€™m', 'House.', 'Stark.', 'much,', 'is', 'will', 'want', 'hold', 'a', 'direwolf', 'Stark', 'on.', 'pups.'}\n",
      "\n",
      "\n",
      " CASSEL ------------------------------------------------------------\n",
      "{'Watch.', 'law', 'rode', 'Nightâ€™s', 'captured', 'my', 'just', 'down', 'hills.', 'deserter', 'here.', 'The', 'belong', 'the', 'My', 'CASSEL:', 'in', 'They', 'donâ€™t', 'law,', 'Lord', 'Stark.', 'is', 'guardsman', 'Theyâ€™ve', 'a', 'from', 'A', 'lady.'}\n",
      "\n",
      "\n",
      " CATELYN ------------------------------------------------------------\n",
      "{'young', 'years', 'more', 'told', 'CATELYN:', 'you', 'they', 'come', 'am', 'my', 'when', 'many', 'things.', 'but', 'I', 'How', 'and', 'here.', 'such', 'Grace.', 'too', 'me.', 'have', 'climbing.', 'to', 'feel', 'still', 'if', 'so', 'sorry,', 'gods', 'fast.', 'old', 'promise', 'the', 'queen.', 'love.', 'to?', 'climbing!', 'My', 'No', 'Gods,', 'an', 'wonder', 'Ned.', 'All', 'is', 'these', 'want', 'agree.', 'Do', 'Ten', 'times', 'outsider', 'Your', 'see', 'like', 'grow'}\n",
      "\n",
      "\n",
      " JAIME ------------------------------------------------------------\n",
      "{'If', 'honor', 'skewered', 'off', 'heâ€™s', 'whores.', 'died', 'new', 'on', 'short.', 'or', 'choose', 'gates', 'didnâ€™t', 'But', 'Hand', 'knew', 'his', 'go', 'around?', 'their', 'lives', 'Their', 'our', 'city', 'with', 'be', 'Robert', 'I', 'life', 'and', 'would', 'both', 'of', 'too', 'without.', 'Whatever', 'to', 'while', 'do', 'hunting', 'JAIME:', 'Or', 'And', 'it', 'boars', 'know,', 'the', 'heads', 'are', 'other', 'someone', 'who', 'job', 'way', 'Arryn', 'he', 'an', 'days', 'by', 'fucking', 'tell?', 'is', 'long,', 'Thatâ€™s', 'can', 'Jon', 'will', 'king,', 'a', 'him.', 'told', 'on.', 'now.'}\n",
      "\n",
      "\n",
      " BRAN ------------------------------------------------------------\n",
      "{'got', 'heâ€™s', 'saw', 'Where', 'motherâ€™s', 'Please,', 'you?', 'go?', 'they', 'Our', 'father!', 'But', 'Heâ€™s', 'hundreds', 'Their', 'deserter.', 'about', 'true', 'our', 'I', 'Is', 'of', 'right', 'lying?', 'king!', 'White', 'it', 'What', 'old', 'the', 'dead.', 'coming', 'now!', 'road!', 'people!', 'NO!', 'way', 'he', 'Walkers?', 'way?', 'BRAN:', 'is', 'Jon', 'will', 'So', 'Down', 'was', 'said', 'a'}\n",
      "\n",
      "\n",
      " WILL ------------------------------------------------------------\n",
      "{'were', 'did', 'thing', 'man', 'could', 'any', 'us.', 'my', 'not', 'as', 'even', 'here.', 'life.', 'seen', 'would.', 'Close', 'Whatever', 'to', 'do', 'this,', 'it', 'the', 'ever', 'in', 'killed', 'They', 'them', 'this.', 'wildlings', 'children.', 'never', 'Iâ€™ve', 'WILL:', 'a', 'like'}\n",
      "\n",
      "\n",
      " ROBERT ------------------------------------------------------------\n",
      "{'minute', 'remember', 'One', 'You', 'crack', 'Show', 'Why', 'be', 'then', 'what.', 'Ned.', 'was.', 'wanted', 'muscles.', 'fine,', 'we', 'skulls', 'ROBERT:', 'Youâ€™ve', 'soldier.', 'years.', 'you', 'your', 'crypt.', 'Ooh.', 'man.', 'my', 'pay', 'Robb.', 'at', 'Burned', 'Nine', 'seen', 'have', 'teach', 'to', 'it', 'what', 'the', 'that', 'much,', 'here?', 'showed', 'Where', 'him,', 'fat.', 'had', 'but', 'me', 'must', 'Take', 'havenâ€™t', 'â€¦', 'been?', 'respects.', 'he', 'Who', 'a', 'got', 'whatever', 'Cat!', 'you?', 'loved', 'I', 'Youâ€™ll', 'and', 'He', 'right', 'do', 'girls.', 'us', '16?', 'fuck', 'never', 'All', 'through', 'want', 'was', 'hell'}\n",
      "\n",
      "\n",
      " SEPTA MORDANE ------------------------------------------------------------\n",
      "{'get', 'this', 'as', 'I', 'managed', 'youâ€™ve', 'to', 'work,', 'Well', 'the', 'that', 'Fine', 'love', 'in', 'done.', 'corners.', 'detail', 'MORDANE:', 'always.', 'SEPTA'}\n",
      "\n",
      "\n",
      " ARYA ------------------------------------------------------------\n",
      "{'the', 'Imp?', 'Thatâ€™s', 'ARYA:', 'Whereâ€™s', 'queenâ€™s', 'Lannister.', 'twin', 'brother.', 'Arya.', 'Jaime', 'The'}\n",
      "\n",
      "\n",
      " ROBB ------------------------------------------------------------\n",
      "{'prick.', 'than', 'back', 'away', 'rest.', 'your', 'met', 'Go', 'get', 'hear', 'royal', 'his', 'Heâ€™s', 'go', 'Put', 'run', 'no', 'him', 'I', 'own', 'and', 'it?', 'of', 'right', 'prince', 'arm.', 'direwolves', 'Relax', 'What', 'on,', 'better', 'the', 'There', 'good.', 'are', 'girl', 'Tommy,', 'hair.', 'he', 'Wall.', 'bow', 'south', 'Lad,', 'never', 'is', 'likes', 'ROBB:', 'shave', 'a', 'blade.'}\n",
      "\n",
      "\n",
      " SANSA ------------------------------------------------------------\n",
      "{'please', 'Would', 'you.', 'up?', 'Thank', 'you', 'shut', 'Will', 'SANSA:', 'up.'}\n",
      "\n",
      "\n",
      " CERSEI ------------------------------------------------------------\n",
      "{'should', 'for', 'Where', 'Go', 'Hand', 'You', 'king.', 'my', 'husband.', 'our', 'be', 'beast.', 'of', 'someone?', 'riding', 'if', 'What', 'the', 'been', 'wait.', 'My', 'love.', 'Weâ€™ve', 'CERSEI:', 'month,', 'brother?', 'little', 'find', 'Arryn', 'is', 'can', 'Jon', 'dead', 'Surely', 'a', 'told'}\n",
      "\n",
      "\n",
      " NED ------------------------------------------------------------\n",
      "{'him?', 'wonâ€™t', 'horses.', 'bury', 'Get', 'You', 'Walkers', 'We', 'about', 'one', 'be', 'rules.', 'me.', 'northern', 'The', 'mother.', 'are', 'My', 'Aye.', 'yourselves.', 'Men', 'die,', 'death.', 'saddle', 'sees.', 'gone', 'Cat.', 'kill', 'sentence', 'these', 'Jon', 'Tough', 'forever.', 'winter', 'years.', 'swing', 'I,', 'Tell', 'Winterfell', 'for', 'you', 'your', 'Go', 'they', 'marksman', 'at', 'no', 'of', 'have', 'to', 'boy', 'why', 'feed', 'practicing,', 'Warden', 'what', 'ten?', 'old', 'the', 'There', 'Andals', 'sees', 'in', 'swore', 'direwolf.', 'an', 'oath,', 'did.', 'yours.', 'Arryn.', 'without', 'outsider.', 'First', 'Guarding', 'lions', 'should', 'heâ€™s', 'did', 'man', 'Seven', 'But', 'their', 'all', 'not', 'had', 'with', 'woods.', 'beast.', 'King', 'me', 'mountain', 'North', 'if', 'coming.', 'protector', 'White', 'Stark,', 'Kingdoms', 'been', 'lads', 'queen.', 'â€¦', 'who', 'which', 'They', 'Youâ€™re', 'he', 'Lord', 'Iâ€™m', 'is', 'Better', 'last', 'understand', 'Your', 'a', 'coming,', 'on.', 'passes', 'A', 'too.', 'Itâ€™s', 'House', 'NED:', 'Keep', 'Bran.', 'He', 'I', 'and', 'it?', 'madman', 'Grace.', 'you,', 'both', 'realm,', 'quick', 'sword.', 'do', 'five', 'North,', 'And', 'sorry,', 'gods', 'Bran', 'Eddard', 'them', 'children.', 'train', 'thousands', 'die.', 'will', 'was'}\n",
      "\n",
      "\n",
      " ROYCE ------------------------------------------------------------\n",
      "{'good', 'If', 'how', 'Itâ€™s', 'back', 'say', 'away', 'you?', 'on', 'your', 'horse.', 'they', 'thing', 'you', 'You', 'heâ€™ll', 'think', 'Get', 'not', 'died?', 'run', 'as', 'I', 'deserter', 'it?', 'have', 'to', 'wonâ€™t', 'Of', 'it', 'us', 'What', 'the', 'ask', 'away.', 'first.', 'again.', 'â€¦', 'camp.', 'donâ€™t', 'children.', 'ROYCE:', 'seem', 'is', 'frighten', 'want', 'will', 'behead', 'moved', 'Do', 'dead', 'course,', 'south,', 'Your', 'a', 'men', 'weâ€™re', 'catch'}\n",
      "\n",
      "\n",
      "\n",
      "All Character's File is Created And unique Words used by them Are Stored In Files Successfully.\n",
      "\n"
     ]
    }
   ],
   "source": [
    "#2.  Create a new text file for each of the characters with their name and store the unique words said by them in \n",
    "#    their respective file. Store one word in one line.\n",
    "c = []\n",
    "unique_words = []\n",
    "for k in b:\n",
    "    print('\\n\\n',k,'------------------------------------------------------------')\n",
    "    c = []\n",
    "    name = k+\".txt\"\n",
    "    my_file = open('dataset/'+name,'w+')\n",
    "    for line in fr :\n",
    "        if line.startswith(k+\":\"):\n",
    "            lines = line.replace(k+\":\",\" \")\n",
    "            lines = line.replace(\"\\n\",\"\")\n",
    "            words = lines.split(' ')\n",
    "            for word in words:\n",
    "                c.append(word)\n",
    "        else:\n",
    "            continue\n",
    "    my_word = set(c)\n",
    "    print(my_word)\n",
    "    for i in my_word:\n",
    "        if i == k+':':\n",
    "            continue                                                       #Removing character's name from set\n",
    "        else:\n",
    "            j = i+\"\\n\"\n",
    "            my_file.writelines(j)    #Storing The Unique Words Said By The Characters To Their Respective Files\n",
    "print(\"\\n\\n\\nAll Character's File is Created And unique Words used by them Are Stored In Files Successfully.\\n\")"
   ]
  }
 ],
 "metadata": {
  "kernelspec": {
   "display_name": "Python 3 (ipykernel)",
   "language": "python",
   "name": "python3"
  },
  "language_info": {
   "codemirror_mode": {
    "name": "ipython",
    "version": 3
   },
   "file_extension": ".py",
   "mimetype": "text/x-python",
   "name": "python",
   "nbconvert_exporter": "python",
   "pygments_lexer": "ipython3",
   "version": "3.9.12"
  }
 },
 "nbformat": 4,
 "nbformat_minor": 5
}
